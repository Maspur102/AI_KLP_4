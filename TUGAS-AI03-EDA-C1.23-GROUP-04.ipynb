{
 "cells": [
  {
   "cell_type": "code",
   "execution_count": null,
   "metadata": {},
   "outputs": [],
   "source": [
    "from google.colab import files\n",
    "uploaded = files.upload()"
   ]
  },
  {
   "cell_type": "code",
   "execution_count": null,
   "metadata": {},
   "outputs": [],
   "source": [
    "import pandas as pd\n",
    "\n",
    "df = pd.read_excel(\"Data_RS_Jabar.xlsx\", sheet_name=\"Lembar1\")\n",
    "df.head()"
   ]
  },
  {
   "cell_type": "code",
   "execution_count": null,
   "metadata": {},
   "outputs": [],
   "source": [
    "df['Kepemilikan'].unique()"
   ]
  },
  {
   "cell_type": "code",
   "execution_count": null,
   "metadata": {},
   "outputs": [],
   "source": [
    "df['Kepemilikan'].value_counts()"
   ]
  },
  {
   "cell_type": "code",
   "execution_count": null,
   "metadata": {},
   "outputs": [],
   "source": [
    "df['Kepemilikan'] = df['Kepemilikan'].str.upper().str.strip()\n",
    "\n",
    "mapping_kepemilikan = {\n",
    "    'SWASTA/LAINNYA' : 'Swasta',\n",
    "    'PERUSAHAAN' : 'Swasta',\n",
    "    'PERORANGAN' : 'Swasta',\n",
    "    'PEMKAB' : 'Pemerintah',\n",
    "    'PEMKOT' : 'Pemerintah',\n",
    "    'PEMPROP' : 'Pemerintah',\n",
    "    'POLRI' : 'Pemerintah',\n",
    "    'TNI AD' : 'Pemerintah',\n",
    "    'KEMKES' : 'Pemerintah',\n",
    "    'TNI AU' : 'Pemerintah',\n",
    "    'KEMENTERIAN LAIN' : 'Pemerintah',\n",
    "    'BUMN' : 'Pemerintah',\n",
    "    'ORGANISASI KATHOLIK' : 'Swasta',\n",
    "    'ORGANISASI PROTESTAN' : 'Swasta',\n",
    "    'ORGANISASI ISLAM' : 'Swasta',\n",
    "    'ORGANISASI SOSIAL' : 'Swasta'\n",
    "}"
   ]
  },
  {
   "cell_type": "code",
   "execution_count": null,
   "metadata": {},
   "outputs": [],
   "source": [
    "df['Kepemilikan_sederhana'] = df['Kepemilikan'].replace(mapping_kepemilikan)\n",
    "df['Kepemilikan_sederhana'].value_counts()"
   ]
  },
  {
   "cell_type": "code",
   "execution_count": null,
   "metadata": {},
   "outputs": [],
   "source": [
    "tabel_bivariat = pd.crosstab(df['Kab'], df['Kepemilikan_sederhana'])\n",
    "tabel_bivariat.head()"
   ]
  },
  {
   "cell_type": "code",
   "execution_count": null,
   "metadata": {},
   "outputs": [],
   "source": [
    "import matplotlib.pyplot as plt\n",
    "import seaborn as sns\n",
    "\n",
    "# Hitung jumlah RS berdasarkan kategori kepemilikan\n",
    "kepemilikan_counts = df['Kepemilikan_sederhana'].value_counts()\n",
    "\n",
    "# Buat bar chart\n",
    "plt.figure(figsize=(8, 5))\n",
    "kepemilikan_counts.plot(kind='bar', color=['skyblue', 'lightgreen'])\n",
    "plt.title('Jumlah Rumah Sakit Berdasarkan Kepemilikan')\n",
    "plt.xlabel('Kategori Kepemilikan')\n",
    "plt.ylabel('Jumlah RS')\n",
    "plt.xticks(rotation=0)\n",
    "plt.grid(axis='y', linestyle='--', alpha=0.7)\n",
    "plt.tight_layout()\n",
    "plt.show()"
   ]
  },
  {
   "cell_type": "code",
   "execution_count": null,
   "metadata": {},
   "outputs": [],
   "source": [
    "plt.figure(figsize=(6, 6))\n",
    "kepemilikan_counts.plot(kind='pie', autopct='%1.1f%%', colors=['skyblue', 'lightgreen'], startangle=140)\n",
    "plt.title('Proporsi Kepemilikan Rumah Sakit di Jawa Barat')\n",
    "plt.ylabel('')\n",
    "plt.tight_layout()\n",
    "plt.show()"
   ]
  },
  {
   "cell_type": "code",
   "execution_count": null,
   "metadata": {},
   "outputs": [],
   "source": [
    "tabel_bivariat.sort_values(by='Pemerintah', ascending=False).plot(\n",
    "    kind='bar',\n",
    "    stacked=True,\n",
    "    figsize=(12,6),\n",
    "    color=['skyblue', 'lightcoral']\n",
    ")\n",
    "plt.title('Distribusi Kepemilikan Rumah Sakit di Tiap Kabupaten/Kota di Jawa Barat')\n",
    "plt.xlabel('Kabupaten/Kota')\n",
    "plt.ylabel('Jumlah Rumah Sakit')\n",
    "plt.xticks(rotation=90)\n",
    "plt.tight_layout()\n",
    "plt.show()"
   ]
  },
  {
   "cell_type": "code",
   "execution_count": null,
   "metadata": {},
   "outputs": [],
   "source": [
    "sns.heatmap(pd.crosstab(df['Kab'], df['Kepemilikan_sederhana']),\n",
    "            cmap=\"YlGnBu\", annot=True, fmt='d')\n",
    "plt.title('Heatmap Kepemilikan RS per Kabupaten')\n",
    "plt.xticks(rotation=0)\n",
    "plt.yticks(rotation=0)\n",
    "plt.show()"
   ]
  }
 ],
 "metadata": {
  "kernelspec": {
   "display_name": "Python 3",
   "language": "python",
   "name": "python3"
  },
  "language_info": {
   "name": "python",
   "version": "3.12.3"
  }
 },
 "nbformat": 4,
 "nbformat_minor": 2
}
